{
 "cells": [
  {
   "cell_type": "code",
   "execution_count": null,
   "id": "927b0ce4",
   "metadata": {},
   "outputs": [],
   "source": [
    "# Exp No:5"
   ]
  },
  {
   "cell_type": "code",
   "execution_count": null,
   "id": "784190e0",
   "metadata": {},
   "outputs": [],
   "source": [
    "# Aim:To perform hypothesis testing using ANOVA (F-TEST) One-Way F-test(Anova)"
   ]
  },
  {
   "cell_type": "code",
   "execution_count": null,
   "id": "0e53d41d",
   "metadata": {},
   "outputs": [],
   "source": [
    "# Name:Sujal Ramesh Lothe\n",
    "# Roll No:39\n",
    "# subject:Data Science and Statistics\n",
    "# Class:B "
   ]
  },
  {
   "cell_type": "code",
   "execution_count": 2,
   "id": "00eeed75",
   "metadata": {},
   "outputs": [
    {
     "name": "stdout",
     "output_type": "stream",
     "text": [
      "p-value is:  0.04043792126789144\n",
      " We can reject the null hypothesis\n"
     ]
    }
   ],
   "source": [
    "# Python program to implement One-Way f-test\n",
    "# Importing the required libraries\n",
    "import scipy.stats\n",
    "# Creating sample data\n",
    "data1 = [0.0842, 0.0368, 0.0847, 0.0935, 0.0376, 0.0963, 0.0684,\n",
    "0.0758, 0.0854, 0.0855]\n",
    "data2 = [0.0785, 0.0845, 0.0758, 0.0853, 0.0946, 0.0785, 0.0853,\n",
    "0.0685]\n",
    "data3 = [0.0864, 0.2522, 0.0894, 0.2724, 0.0853, 0.1367, 0.853]\n",
    "# Performing the F-Test\n",
    "f_test, p_val = scipy.stats.f_oneway(data1, data2, data3)\n",
    "print(\"p-value is: \", p_val)\n",
    "# taking the threshold value as 0.05 or 5%\n",
    "if p_val < 0.05:\n",
    "    print(\" We can reject the null hypothesis\")\n",
    "else:\n",
    "    print(\"We can accept the null hypothesis\")"
   ]
  },
  {
   "cell_type": "code",
   "execution_count": null,
   "id": "e27a8260",
   "metadata": {},
   "outputs": [],
   "source": []
  }
 ],
 "metadata": {
  "kernelspec": {
   "display_name": "Python 3 (ipykernel)",
   "language": "python",
   "name": "python3"
  },
  "language_info": {
   "codemirror_mode": {
    "name": "ipython",
    "version": 3
   },
   "file_extension": ".py",
   "mimetype": "text/x-python",
   "name": "python",
   "nbconvert_exporter": "python",
   "pygments_lexer": "ipython3",
   "version": "3.11.3"
  }
 },
 "nbformat": 4,
 "nbformat_minor": 5
}

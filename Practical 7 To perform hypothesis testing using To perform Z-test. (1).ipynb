{
 "cells": [
  {
   "cell_type": "code",
   "execution_count": 3,
   "id": "68f11413",
   "metadata": {},
   "outputs": [],
   "source": [
    "# Exp No:7"
   ]
  },
  {
   "cell_type": "code",
   "execution_count": 4,
   "id": "974b1301",
   "metadata": {},
   "outputs": [],
   "source": [
    "# Aim: To perform hypothesis testing using To perform Z-test."
   ]
  },
  {
   "cell_type": "code",
   "execution_count": null,
   "id": "5dcba85e",
   "metadata": {},
   "outputs": [],
   "source": [
    "# Name:Sujal Ramesh Lothe\n",
    "# Roll No:39\n",
    "# subject:Data Science and Statistics\n",
    "# Class:B "
   ]
  },
  {
   "cell_type": "code",
   "execution_count": 2,
   "id": "4054d87a",
   "metadata": {},
   "outputs": [
    {
     "name": "stdout",
     "output_type": "stream",
     "text": [
      "2.417334226169332e-186\n",
      "We can reject the null hypothesis\n"
     ]
    }
   ],
   "source": [
    "# Python program to implement One Sample Z-Test\n",
    "# Importing the required libraries\n",
    "import pandas as pd\n",
    "from scipy import stats\n",
    "from statsmodels.stats import weightstats as stests\n",
    "# Creating a dataset\n",
    "data = [89, 93, 95, 93, 97, 98, 96, 99, 93, 97,\n",
    "110, 104, 119, 105, 104, 110, 110, 112, 115, 114]\n",
    "# Performing the z-test\n",
    "z_test ,p_val = stests.ztest(data, x2 = None, value = 160)\n",
    "print(p_val)\n",
    "# taking the threshold value as 0.05 or 5%\n",
    "if p_val < 0.05:\n",
    "    print(\"We can reject the null hypothesis\")\n",
    "else:\n",
    "    print(\"We can accept the null hypothesis\")"
   ]
  },
  {
   "cell_type": "code",
   "execution_count": null,
   "id": "b2845e24",
   "metadata": {},
   "outputs": [],
   "source": []
  },
  {
   "cell_type": "code",
   "execution_count": null,
   "id": "d26a30d4",
   "metadata": {},
   "outputs": [],
   "source": []
  }
 ],
 "metadata": {
  "kernelspec": {
   "display_name": "Python 3 (ipykernel)",
   "language": "python",
   "name": "python3"
  },
  "language_info": {
   "codemirror_mode": {
    "name": "ipython",
    "version": 3
   },
   "file_extension": ".py",
   "mimetype": "text/x-python",
   "name": "python",
   "nbconvert_exporter": "python",
   "pygments_lexer": "ipython3",
   "version": "3.11.3"
  }
 },
 "nbformat": 4,
 "nbformat_minor": 5
}
